{
 "cells": [
  {
   "cell_type": "code",
   "execution_count": 1,
   "id": "stone-greek",
   "metadata": {},
   "outputs": [
    {
     "name": "stdout",
     "output_type": "stream",
     "text": [
      "2.4.1\n"
     ]
    }
   ],
   "source": [
    "import pandas as pd\n",
    "import matplotlib.pyplot as plt\n",
    "import matplotlib.image as mpimg\n",
    "import numpy as np\n",
    "import cv2\n",
    "import tensorflow as tf\n",
    "import random\n",
    "from scipy import ndimage\n",
    "print(tf.__version__)"
   ]
  },
  {
   "cell_type": "code",
   "execution_count": 2,
   "id": "occupied-haven",
   "metadata": {},
   "outputs": [],
   "source": [
    "# Read Data From CSV File1\n",
    "df = pd.read_csv('./slow_data/driving_log.csv', usecols= ['center','left','right','steering_angle'])"
   ]
  },
  {
   "cell_type": "code",
   "execution_count": 4,
   "id": "flexible-privacy",
   "metadata": {},
   "outputs": [
    {
     "name": "stdout",
     "output_type": "stream",
     "text": [
      "Number of Training Examples: 1932 Number of Validation Examples: 829\n"
     ]
    }
   ],
   "source": [
    "image_examples = df[['center','left','right','steering_angle']].to_numpy()\n",
    "np.random.shuffle(image_examples)\n",
    "img_num = len(image_examples)\n",
    "train_num = int(0.70 * img_num)\n",
    "val_num = img_num-train_num\n",
    "\n",
    "train_examples = image_examples[0:train_num]\n",
    "val_examples = image_examples[train_num:]\n",
    "print(\"Number of Training Examples:\",train_num,\"Number of Validation Examples:\",val_num)\n",
    "\n",
    "def load_images (image_examples, batch_size, validation_set=False):\n",
    "    examples_x = []\n",
    "    examples_y = []\n",
    "    length = image_examples.shape[0]\n",
    "    np.random.shuffle(image_examples)\n",
    "    correction = [0, 0.25, -0.25]\n",
    "    i = 0\n",
    "    while True:\n",
    "        pos = random.randint(0,2)\n",
    "        img = cv2.imread(image_examples[i][pos])\n",
    "        flipped_image = np.fliplr(img)\n",
    "        corrected_label = image_examples[i][3] + correction[pos]\n",
    "        rand_num = random.uniform(0, 1)\n",
    "        if rand_num > 0.5:\n",
    "            examples_x.append(img)\n",
    "            examples_y.append(corrected_label)\n",
    "        else:\n",
    "            examples_x.append(flipped_image)\n",
    "            examples_y.append(-corrected_label)\n",
    "        \n",
    "        i = i+1\n",
    "        \n",
    "        if i%batch_size == 0:\n",
    "            X = np.array(examples_x)\n",
    "            y = np.array(examples_y)\n",
    "            examples_x = []\n",
    "            examples_y = []\n",
    "            yield (X, y)\n",
    "        if i == length:\n",
    "            i = 0\n",
    "\n",
    "batch_size = 32\n",
    "train_gen = load_images(train_examples, batch_size)\n",
    "val_gen = load_images(val_examples, batch_size, True)\n",
    "\n",
    "EPOCHS = 10\n",
    "steps_per_epoch = train_num //batch_size\n",
    "validation_steps = val_num //batch_size\n",
    "shape = next(train_gen)[0][0].shape"
   ]
  },
  {
   "cell_type": "code",
   "execution_count": 5,
   "id": "advisory-nature",
   "metadata": {},
   "outputs": [],
   "source": [
    "# Best Model So Far\n",
    "model = tf.keras.models.Sequential([\n",
    "    tf.keras.layers.Lambda(lambda x : (tf.cast(x, tf.float32)/255.0) - 0.5, input_shape=shape),\n",
    "    tf.keras.layers.Cropping2D(cropping=((75,25), (10,10))),\n",
    "    tf.keras.layers.Conv2D(24, (5,5), padding='same'),    \n",
    "    tf.keras.layers.Conv2D(36, (5,5), activation='relu', padding='same'),\n",
    "    tf.keras.layers.Conv2D(64, (3,3), activation='relu', padding='same'),\n",
    "    tf.keras.layers.Flatten(),\n",
    "    tf.keras.layers.Dropout(0.5),\n",
    "    tf.keras.layers.Dense(100, activation='relu'),\n",
    "    tf.keras.layers.Dropout(0.2),\n",
    "    tf.keras.layers.Dense(10, activation='relu'),\n",
    "    tf.keras.layers.Dropout(0.1),\n",
    "    tf.keras.layers.Dense(1),\n",
    "])\n",
    "model.compile(loss='mse', optimizer='adam')"
   ]
  },
  {
   "cell_type": "code",
   "execution_count": 6,
   "id": "atmospheric-participation",
   "metadata": {},
   "outputs": [
    {
     "name": "stdout",
     "output_type": "stream",
     "text": [
      "Epoch 1/10\n",
      "60/60 [==============================] - 92s 2s/step - loss: 8.5649 - val_loss: 0.0531\n",
      "Epoch 2/10\n",
      "60/60 [==============================] - 90s 2s/step - loss: 0.0597 - val_loss: 0.0425\n",
      "Epoch 3/10\n",
      "60/60 [==============================] - 97s 2s/step - loss: 0.0546 - val_loss: 0.0427\n",
      "Epoch 4/10\n",
      "60/60 [==============================] - 91s 2s/step - loss: 0.0519 - val_loss: 0.0421\n",
      "Epoch 5/10\n",
      "60/60 [==============================] - 91s 2s/step - loss: 0.0483 - val_loss: 0.0388\n",
      "Epoch 6/10\n",
      "60/60 [==============================] - 92s 2s/step - loss: 0.0497 - val_loss: 0.0377\n",
      "Epoch 7/10\n",
      "60/60 [==============================] - 92s 2s/step - loss: 0.0500 - val_loss: 0.0396\n",
      "Epoch 8/10\n",
      "60/60 [==============================] - 91s 2s/step - loss: 0.0458 - val_loss: 0.0394\n",
      "Epoch 9/10\n",
      "60/60 [==============================] - 96s 2s/step - loss: 0.0421 - val_loss: 0.0375\n",
      "Epoch 10/10\n",
      "60/60 [==============================] - 95s 2s/step - loss: 0.0423 - val_loss: 0.0433\n"
     ]
    }
   ],
   "source": [
    "hist = model.fit(\n",
    "    train_gen,\n",
    "    epochs=EPOCHS, steps_per_epoch=steps_per_epoch,\n",
    "    validation_data=val_gen,\n",
    "    validation_steps=validation_steps).history"
   ]
  },
  {
   "cell_type": "code",
   "execution_count": 7,
   "id": "beginning-closer",
   "metadata": {},
   "outputs": [],
   "source": [
    "model.save('slow_model.h5')"
   ]
  },
  {
   "cell_type": "code",
   "execution_count": 8,
   "id": "abandoned-redhead",
   "metadata": {},
   "outputs": [
    {
     "data": {
      "image/png": "[encoded data removed]",
      "text/plain": [
       "<Figure size 576x576 with 1 Axes>"
      ]
     },
     "metadata": {
      "needs_background": "light"
     },
     "output_type": "display_data"
    }
   ],
   "source": [
    "loss = hist['loss']\n",
    "val_loss = hist['val_loss']\n",
    "\n",
    "epochs_range = range(EPOCHS)\n",
    "\n",
    "plt.figure(figsize=(8, 8))\n",
    "plt.subplot(1, 2, 2)\n",
    "plt.plot(epochs_range, loss, label='Training Loss')\n",
    "plt.plot(epochs_range, val_loss, label='Validation Loss')\n",
    "plt.legend(loc='upper right')\n",
    "plt.title('Training and Validation Loss')\n",
    "plt.show()"
   ]
  }
 ],
 "metadata": {
  "kernelspec": {
   "display_name": "Python 3",
   "language": "python",
   "name": "python3"
  },
  "language_info": {
   "codemirror_mode": {
    "name": "ipython",
    "version": 3
   },
   "file_extension": ".py",
   "mimetype": "text/x-python",
   "name": "python",
   "nbconvert_exporter": "python",
   "pygments_lexer": "ipython3",
   "version": "3.6.13"
  }
 },
 "nbformat": 4,
 "nbformat_minor": 5
}
